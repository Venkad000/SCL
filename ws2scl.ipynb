{
  "nbformat": 4,
  "nbformat_minor": 0,
  "metadata": {
    "colab": {
      "name": "ws2scl.ipynb",
      "provenance": [],
      "collapsed_sections": [],
      "authorship_tag": "ABX9TyPuM3gy49KzzJKcAu9wRfo8",
      "include_colab_link": true
    },
    "kernelspec": {
      "name": "python3",
      "display_name": "Python 3"
    },
    "language_info": {
      "name": "python"
    }
  },
  "cells": [
    {
      "cell_type": "markdown",
      "metadata": {
        "id": "view-in-github",
        "colab_type": "text"
      },
      "source": [
        "<a href=\"https://colab.research.google.com/github/Venkad000/SCL/blob/main/ws2scl.ipynb\" target=\"_parent\"><img src=\"https://colab.research.google.com/assets/colab-badge.svg\" alt=\"Open In Colab\"/></a>"
      ]
    },
    {
      "cell_type": "code",
      "source": [
        "import numpy as np"
      ],
      "metadata": {
        "id": "XI6ZgDdxeq4t"
      },
      "execution_count": null,
      "outputs": []
    },
    {
      "cell_type": "code",
      "source": [
        "from sympy import *"
      ],
      "metadata": {
        "id": "AnyJwNsphG4M"
      },
      "execution_count": null,
      "outputs": []
    },
    {
      "cell_type": "code",
      "execution_count": null,
      "metadata": {
        "colab": {
          "base_uri": "https://localhost:8080/"
        },
        "id": "IpIY48tneZze",
        "outputId": "192f1592-0417-4179-e364-c945ed85f0cf"
      },
      "outputs": [
        {
          "output_type": "stream",
          "name": "stdout",
          "text": [
            "[ 0.57735027 -0.57735027 -0.57735027]\n"
          ]
        }
      ],
      "source": [
        "def power_iteration(A, num_simulations: int):\n",
        "    b_k = np.random.rand(A.shape[1])\n",
        "    for _ in range(num_simulations):\n",
        "        b_k1 = np.dot(A, b_k)\n",
        "        b_k1_norm = np.linalg.norm(b_k1)\n",
        "        b_k = b_k1 / b_k1_norm\n",
        "    return b_k\n",
        "\n",
        "print(power_iteration(np.array([[4,0,1],[-2,1,0],[-2,0,1]]), 10000))"
      ]
    },
    {
      "cell_type": "code",
      "source": [
        "from numpy.linalg import eig\n",
        "a = np.array([[3,-1,0],[-1,2,-1],[0,-1,3]])\n",
        "w,arr=eig(a)\n",
        "warrs = arr\n",
        "dia = False\n",
        "\n",
        "for i in range(0,len(arr)):\n",
        "  if (arr[i][i] == 0):\n",
        "    print(\"Not diagonalizable\")\n",
        "    break\n",
        "  else:\n",
        "    arr[i] = [k / arr[i][i] for k in arr[i]]\n",
        "  for j in range(0,len(arr)):\n",
        "    if i != j:\n",
        "      arr[j] = [x - arr[j][i] * y for x,y in zip(arr[j],arr[i])]\n",
        "dia = True\n",
        "print(\"Diagonizable\")\n",
        "\n",
        "if (dia):\n",
        "  for i in range(0,len(arr)):\n",
        "    arr[i][i] = w[i]\n",
        "\n",
        "  p = []\n",
        "  for i in warrs:\n",
        "    p.append(list(i))\n",
        "\n",
        "print()\n",
        "print(\"Matrix after diagonalization:\")\n",
        "print(arr)\n",
        "\n"
      ],
      "metadata": {
        "colab": {
          "base_uri": "https://localhost:8080/"
        },
        "id": "7ECqy-TtemNX",
        "outputId": "536169fe-5461-40ef-af47-2d206a4b301d"
      },
      "execution_count": null,
      "outputs": [
        {
          "output_type": "stream",
          "name": "stdout",
          "text": [
            "Diagonizable\n",
            "\n",
            "Matrix after diagonalization:\n",
            "[[1. 0. 0.]\n",
            " [0. 3. 0.]\n",
            " [0. 0. 4.]]\n"
          ]
        }
      ]
    },
    {
      "cell_type": "code",
      "source": [
        "p1,d1 = Matrix(a).diagonalize()\n",
        "print(d1)\n"
      ],
      "metadata": {
        "colab": {
          "base_uri": "https://localhost:8080/"
        },
        "id": "vsm7aX1ThM4V",
        "outputId": "faa57025-ee11-42bf-fa79-f37a86faf642"
      },
      "execution_count": null,
      "outputs": [
        {
          "output_type": "stream",
          "name": "stdout",
          "text": [
            "Matrix([[1, 0, 0], [0, 3, 0], [0, 0, 4]])\n"
          ]
        }
      ]
    },
    {
      "cell_type": "code",
      "source": [
        "import re"
      ],
      "metadata": {
        "id": "Qw7dLhVop44m"
      },
      "execution_count": null,
      "outputs": []
    },
    {
      "cell_type": "code",
      "source": [
        "eq = \"1x2 + 7y2 + -3z2 + 4xy - 2xz + 8yz\"\n",
        "x2_c = re.findall(\"[^0-9]*([0-9]*?)x2\",eq)\n",
        "y2_c = re.findall(\"[^0-9]*([0-9]*?)y2\",eq)\n",
        "z2_c = re.findall(\"[^0-9]*([0-9]*?)z2\",eq)\n",
        "xy_c = re.findall(\"[^0-9]*([0-9]*?)xy\",eq)\n",
        "xz_c = re.findall(\"[^0-9]*([0-9]*?)xz\",eq)\n",
        "yz_c = re.findall(\"[^0-9]*([0-9]*?)yz\",eq)\n",
        "\n",
        "x2_c = int(x2_c[0])\n",
        "y2_c = int(y2_c[0])\n",
        "z2_c = int(z2_c[0])\n",
        "xz_c = int(xz_c[0])\n",
        "xy_c = int(xy_c[0])\n",
        "yz_c = int(yz_c[0])\n",
        "\n",
        "m = [[x2_c,1/2*xy_c,1/2*xz_c],[1/2*xy_c,y2_c,1/2*yz_c],[1/2*xz_c,1/2*yz_c,z2_c]]\n",
        "\n",
        "print(m)\n",
        "s,sarr=eig(m)\n",
        "print(s)\n",
        "print()\n",
        "can_eq = \"\"\n",
        "can_eq += str(s[0]) + \"x2 + \"\n",
        "can_eq += str(s[1]) + \"y2 + \"\n",
        "can_eq += str(s[2]) + \"z2\"\n",
        "print(can_eq)"
      ],
      "metadata": {
        "colab": {
          "base_uri": "https://localhost:8080/"
        },
        "id": "_Y58rAExqzr1",
        "outputId": "5ff18466-0716-42de-b576-f9c393c2047b"
      },
      "execution_count": null,
      "outputs": [
        {
          "output_type": "stream",
          "name": "stdout",
          "text": [
            "[[1, 2.0, 1.0], [2.0, 7, 4.0], [1.0, 4.0, 3]]\n",
            "[10.02211882  0.2901837   0.68769748]\n",
            "\n",
            "10.022118817542701x2 + 0.29018370008469235y2 + 0.6876974823726044z2\n"
          ]
        }
      ]
    },
    {
      "cell_type": "code",
      "source": [
        "import math"
      ],
      "metadata": {
        "id": "CXgkindgnB3N"
      },
      "execution_count": null,
      "outputs": []
    },
    {
      "cell_type": "code",
      "source": [
        "def eq(x):\n",
        "  # return (3 * x + math.cos(x) - x)\n",
        "  # return (math.cos(x) - x * math.exp(x))\n",
        "  # return x**3 - x - 2\n",
        "  # return (x**3 + 2*x**2 + 10*x - 20)\n",
        "  # return (x - math.cos(x))\n",
        "  # return (x - math.sin(x) - 0.5)\n",
        "  # return (3 * x - math.sin(x) - math.exp(x))\n",
        "  return (x*math.exp(x) - 3)"
      ],
      "metadata": {
        "id": "nOYiumMyjLMO"
      },
      "execution_count": null,
      "outputs": []
    },
    {
      "cell_type": "code",
      "source": [
        "n = 1\n",
        "max_iter = 1000000\n",
        "a = 1\n",
        "b = 2\n",
        "while (n <= max_iter):\n",
        "  c = (a+b)/2\n",
        "  if (eq(c) == 0 or abs(b-a) < 0.5):\n",
        "    print(eq(c))\n",
        "    print(c)\n",
        "    break\n",
        "  n = n+1\n",
        "  if (eq(a) * eq(c) > 0):\n",
        "    a = c\n",
        "  else:\n",
        "    b = c\n"
      ],
      "metadata": {
        "colab": {
          "base_uri": "https://localhost:8080/"
        },
        "id": "H5Rur866mPhu",
        "outputId": "b45b8d5b-8778-42e3-a7f3-b75486b2ded7"
      },
      "execution_count": null,
      "outputs": [
        {
          "output_type": "stream",
          "name": "stdout",
          "text": [
            "0.46524395503278493\n",
            "1.125\n"
          ]
        }
      ]
    },
    {
      "cell_type": "code",
      "source": [
        "n = 1\n",
        "max_iter = 100000\n",
        "a = 1\n",
        "b = 2\n",
        "while (n <= max_iter):\n",
        "  c = (a * eq(b) - b * eq(a))/(eq(b) - eq(a))\n",
        "  if (eq(c) == 0 or abs(b-a) < 0.005):\n",
        "    print(eq(c))\n",
        "    print(c)\n",
        "    break\n",
        "  n = n+1\n",
        "  if (eq(a) * eq(c) >= 0):\n",
        "    a = c\n",
        "  else:\n",
        "    b = c"
      ],
      "metadata": {
        "id": "vvDD3yu5nXR-"
      },
      "execution_count": null,
      "outputs": []
    },
    {
      "cell_type": "code",
      "source": [
        "import sympy"
      ],
      "metadata": {
        "id": "1DXYlhSFvMAT"
      },
      "execution_count": null,
      "outputs": []
    },
    {
      "cell_type": "code",
      "source": [
        "expr = "
      ],
      "metadata": {
        "id": "pvDa8qWmDNfe"
      },
      "execution_count": null,
      "outputs": []
    }
  ]
}